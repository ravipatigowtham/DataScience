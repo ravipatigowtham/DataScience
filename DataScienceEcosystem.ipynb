{
  "cells": [
    {
      "cell_type": "markdown",
      "metadata": {
        "id": "12xaEK62BKIv"
      },
      "source": [
        "# Data Science Tools and Ecosystem"
      ]
    },
    {
      "cell_type": "markdown",
      "metadata": {
        "id": "r_PCL8OdBKIz"
      },
      "source": [
        "# In this notebook, Data Science Tools and Ecosystem are summarized."
      ]
    },
    {
      "cell_type": "markdown",
      "source": [
        "**Objectives:**\n",
        "\n",
        "- List popular languages for Data Science\n",
        "- Identify commonly used libraries in Data Science\n",
        "- Understand basic arithmetic expressions in Python\n",
        "- Convert units of time using simple Python operations"
      ],
      "metadata": {
        "id": "UORR5UAmB8gT"
      }
    },
    {
      "cell_type": "markdown",
      "metadata": {
        "id": "aT--j_VUBKI0"
      },
      "source": [
        "# Some of the popular languages that Data Scientists use are:\n",
        "\n",
        "# 1. Python  \n",
        "# 2. R  \n",
        "# 3. SQL"
      ]
    },
    {
      "cell_type": "markdown",
      "metadata": {
        "id": "gYtlv5-LBKI1"
      },
      "source": [
        "# Some of the commonly used libraries used by Data Scientists include:\n",
        "\n",
        "# 1. Pandas  \n",
        "# 2. NumPy  \n",
        "# 3. Matplotlib"
      ]
    },
    {
      "cell_type": "markdown",
      "metadata": {
        "id": "QWMgnTxSBKI2"
      },
      "source": [
        "| Data Science Tools         |\n",
        "|----------------------------|\n",
        "| Jupyter Notebook           |\n",
        "| RStudio                    |\n",
        "| Apache Zeppelin            |"
      ]
    },
    {
      "cell_type": "markdown",
      "metadata": {
        "id": "hSALCantBKI2"
      },
      "source": [
        "### Below are a few examples of evaluating arithmetic expressions in Python"
      ]
    },
    {
      "cell_type": "code",
      "execution_count": 1,
      "metadata": {
        "colab": {
          "base_uri": "https://localhost:8080/"
        },
        "id": "sNo-6bEkBKI3",
        "outputId": "0b6a94dc-2119-4cae-9df9-850c253f29a5"
      },
      "outputs": [
        {
          "output_type": "execute_result",
          "data": {
            "text/plain": [
              "17"
            ]
          },
          "metadata": {},
          "execution_count": 1
        }
      ],
      "source": [
        "# This is a simple arithmetic expression to multiply then add integers\n",
        "result = (3 * 4) + 5\n",
        "result"
      ]
    },
    {
      "cell_type": "code",
      "execution_count": 2,
      "metadata": {
        "colab": {
          "base_uri": "https://localhost:8080/"
        },
        "id": "IIaNQnj6BKI6",
        "outputId": "b2eb9739-4a95-41af-a0ee-20f2d44fb6c8"
      },
      "outputs": [
        {
          "output_type": "execute_result",
          "data": {
            "text/plain": [
              "3.3333333333333335"
            ]
          },
          "metadata": {},
          "execution_count": 2
        }
      ],
      "source": [
        "# This will convert 200 minutes to hours\n",
        "hours = 200 / 60\n",
        "hours"
      ]
    },
    {
      "cell_type": "markdown",
      "source": [
        "## Author\n",
        "Gowtham"
      ],
      "metadata": {
        "id": "CzxCuG1HCTrF"
      }
    }
  ],
  "metadata": {
    "kernelspec": {
      "display_name": "Python 3",
      "language": "python",
      "name": "python3"
    },
    "language_info": {
      "name": "python",
      "version": "3.8.0"
    },
    "colab": {
      "provenance": []
    }
  },
  "nbformat": 4,
  "nbformat_minor": 0
}